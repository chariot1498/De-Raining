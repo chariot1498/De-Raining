{
 "cells": [
  {
   "cell_type": "code",
   "execution_count": 2,
   "metadata": {},
   "outputs": [
    {
     "name": "stderr",
     "output_type": "stream",
     "text": [
      "Using TensorFlow backend.\n",
      "/usr/local/Cellar/python3/3.6.1/Frameworks/Python.framework/Versions/3.6/lib/python3.6/importlib/_bootstrap.py:205: RuntimeWarning: compiletime version 3.5 of module 'tensorflow.python.framework.fast_tensor_util' does not match runtime version 3.6\n",
      "  return f(*args, **kwds)\n"
     ]
    }
   ],
   "source": [
    "import numpy as np\n",
    "from keras.models import Sequential\n",
    "from keras.layers import Input, Concatenate\n",
    "from keras.layers import Conv2D, Conv2DTranspose, Activation, MaxPooling2D, UpSampling2D\n",
    "from keras.layers.advanced_activations import PReLU, LeakyReLU\n",
    "from keras.models import Model\n",
    "from keras.models import load_model\n",
    "import tensorflow as tf\n",
    "from keras import backend as K\n",
    "from keras.optimizers import Adam\n",
    "import cv2\n",
    "import matplotlib.pyplot as plt\n",
    "%matplotlib inline\n",
    "import glob\n",
    "from keras import losses"
   ]
  },
  {
   "cell_type": "code",
   "execution_count": 3,
   "metadata": {
    "collapsed": true
   },
   "outputs": [],
   "source": [
    "images = []\n",
    "for i in glob.glob(\"*.jpg\"):\n",
    "    images.append(cv2.imread(i))"
   ]
  },
  {
   "cell_type": "code",
   "execution_count": 4,
   "metadata": {
    "collapsed": true
   },
   "outputs": [],
   "source": [
    "co = 0\n",
    "rain_im = []\n",
    "derain_im = []\n",
    "for i in images:\n",
    "    #print(co)\n",
    "    co += 1\n",
    "    col = i.shape[1]\n",
    "    im = i[:,:col//2,:]\n",
    "    im2 = i[:,col//2:,:]\n",
    "    derain_im.append(im)\n",
    "    rain_im.append(im2)"
   ]
  },
  {
   "cell_type": "code",
   "execution_count": 5,
   "metadata": {
    "collapsed": true
   },
   "outputs": [],
   "source": [
    "derain_final = []\n",
    "for i in derain_im:\n",
    "    x = cv2.resize(i,(256,256))\n",
    "    x = x/255\n",
    "    derain_final.append(x)"
   ]
  },
  {
   "cell_type": "code",
   "execution_count": 6,
   "metadata": {
    "collapsed": true
   },
   "outputs": [],
   "source": [
    "rain_final = []\n",
    "for i in rain_im:\n",
    "    x = cv2.resize(i,(256,256))\n",
    "    x = x/255\n",
    "    rain_final.append(x)"
   ]
  },
  {
   "cell_type": "code",
   "execution_count": 7,
   "metadata": {},
   "outputs": [
    {
     "data": {
      "text/plain": [
       "(700, 256, 256, 3)"
      ]
     },
     "execution_count": 7,
     "metadata": {},
     "output_type": "execute_result"
    }
   ],
   "source": [
    "rain_final = np.asarray(rain_final)\n",
    "rain_final.shape"
   ]
  },
  {
   "cell_type": "code",
   "execution_count": 8,
   "metadata": {},
   "outputs": [
    {
     "data": {
      "text/plain": [
       "(700, 256, 256, 3)"
      ]
     },
     "execution_count": 8,
     "metadata": {},
     "output_type": "execute_result"
    }
   ],
   "source": [
    "derain_final = np.asarray(derain_final)\n",
    "derain_final.shape"
   ]
  },
  {
   "cell_type": "code",
   "execution_count": 8,
   "metadata": {},
   "outputs": [
    {
     "name": "stdout",
     "output_type": "stream",
     "text": [
      "_________________________________________________________________\n",
      "Layer (type)                 Output Shape              Param #   \n",
      "=================================================================\n",
      "input_1 (InputLayer)         (None, 256, 256, 3)       0         \n",
      "_________________________________________________________________\n",
      "conv2d_1 (Conv2D)            (None, 256, 256, 16)      784       \n",
      "_________________________________________________________________\n",
      "max_pooling2d_1 (MaxPooling2 (None, 128, 128, 16)      0         \n",
      "_________________________________________________________________\n",
      "conv2d_2 (Conv2D)            (None, 128, 128, 32)      12832     \n",
      "_________________________________________________________________\n",
      "max_pooling2d_2 (MaxPooling2 (None, 64, 64, 32)        0         \n",
      "_________________________________________________________________\n",
      "conv2d_3 (Conv2D)            (None, 64, 64, 64)        18496     \n",
      "_________________________________________________________________\n",
      "conv2d_transpose_1 (Conv2DTr (None, 64, 64, 32)        18464     \n",
      "_________________________________________________________________\n",
      "up_sampling2d_1 (UpSampling2 (None, 128, 128, 32)      0         \n",
      "_________________________________________________________________\n",
      "conv2d_4 (Conv2D)            (None, 128, 128, 16)      12816     \n",
      "_________________________________________________________________\n",
      "up_sampling2d_2 (UpSampling2 (None, 256, 256, 16)      0         \n",
      "_________________________________________________________________\n",
      "conv2d_5 (Conv2D)            (None, 256, 256, 3)       435       \n",
      "=================================================================\n",
      "Total params: 63,827\n",
      "Trainable params: 63,827\n",
      "Non-trainable params: 0\n",
      "_________________________________________________________________\n"
     ]
    }
   ],
   "source": [
    "input_img = Input(shape=(256, 256, 3))\n",
    "\n",
    "x = Conv2D(16, (4, 4), activation='relu', padding='same')(input_img)\n",
    "x = MaxPooling2D((2, 2), padding='same')(x)\n",
    "\n",
    "x = Conv2D(32, (5, 5), activation='relu', padding='same')(x)\n",
    "x = MaxPooling2D((2, 2), padding='same')(x)\n",
    "\n",
    "encoded = Conv2D(64, (3, 3), activation='relu', padding='same')(x)\n",
    "#encoded = MaxPooling2D((2, 2), padding='same')(x)\n",
    "\n",
    "# at this point the representation is (4, 4, 8) i.e. 128-dimensional\n",
    "\n",
    "x = Conv2DTranspose(32, (3, 3), activation='relu', padding='same')(encoded)\n",
    "x = UpSampling2D((2, 2))(x)\n",
    "x = Conv2D(16, (5, 5), activation='relu', padding='same')(x)\n",
    "x = UpSampling2D((2, 2))(x)\n",
    "decoded = Conv2D(3, (3, 3), activation='sigmoid',padding = 'same')(x)\n",
    "\n",
    "#decoded = Conv2D(3, (3, 3), activation='sigmoid', padding='same')(x)\n",
    "\n",
    "autoencoder = Model(input_img, decoded)\n",
    "autoencoder.summary()\n",
    "autoencoder.compile(optimizer='adam', loss=losses.mean_squared_error,metrics = ['accuracy'])"
   ]
  },
  {
   "cell_type": "code",
   "execution_count": 25,
   "metadata": {},
   "outputs": [
    {
     "name": "stdout",
     "output_type": "stream",
     "text": [
      "Epoch 1/150\n",
      "700/700 [==============================] - 13s - loss: 0.0074 - acc: 0.8143    \n",
      "Epoch 2/150\n",
      "700/700 [==============================] - 13s - loss: 0.0075 - acc: 0.8055    \n",
      "Epoch 3/150\n",
      "700/700 [==============================] - 13s - loss: 0.0077 - acc: 0.8044    \n",
      "Epoch 4/150\n",
      "700/700 [==============================] - 13s - loss: 0.0079 - acc: 0.8013    \n",
      "Epoch 5/150\n",
      "700/700 [==============================] - 13s - loss: 0.0078 - acc: 0.8060    \n",
      "Epoch 6/150\n",
      "700/700 [==============================] - 13s - loss: 0.0076 - acc: 0.8143    \n",
      "Epoch 7/150\n",
      "700/700 [==============================] - 13s - loss: 0.0075 - acc: 0.8121    \n",
      "Epoch 8/150\n",
      "700/700 [==============================] - 13s - loss: 0.0075 - acc: 0.8146    \n",
      "Epoch 9/150\n",
      "700/700 [==============================] - 13s - loss: 0.0078 - acc: 0.7884    \n",
      "Epoch 10/150\n",
      "700/700 [==============================] - 13s - loss: 0.0075 - acc: 0.8210    \n",
      "Epoch 11/150\n",
      "700/700 [==============================] - 13s - loss: 0.0081 - acc: 0.8147    \n",
      "Epoch 12/150\n",
      "700/700 [==============================] - 13s - loss: 0.0081 - acc: 0.8139    \n",
      "Epoch 13/150\n",
      "700/700 [==============================] - 13s - loss: 0.0076 - acc: 0.8129    \n",
      "Epoch 14/150\n",
      "700/700 [==============================] - 13s - loss: 0.0076 - acc: 0.8081    \n",
      "Epoch 15/150\n",
      "700/700 [==============================] - 13s - loss: 0.0073 - acc: 0.8095    \n",
      "Epoch 16/150\n",
      "700/700 [==============================] - 13s - loss: 0.0073 - acc: 0.8107    \n",
      "Epoch 17/150\n",
      "700/700 [==============================] - 13s - loss: 0.0073 - acc: 0.8161    \n",
      "Epoch 18/150\n",
      "700/700 [==============================] - 13s - loss: 0.0071 - acc: 0.8179    \n",
      "Epoch 19/150\n",
      "700/700 [==============================] - 13s - loss: 0.0073 - acc: 0.8061    \n",
      "Epoch 20/150\n",
      "700/700 [==============================] - 13s - loss: 0.0074 - acc: 0.8123    \n",
      "Epoch 21/150\n",
      "700/700 [==============================] - 13s - loss: 0.0074 - acc: 0.8145    \n",
      "Epoch 22/150\n",
      "700/700 [==============================] - 13s - loss: 0.0072 - acc: 0.8163    \n",
      "Epoch 23/150\n",
      "700/700 [==============================] - 13s - loss: 0.0072 - acc: 0.8146    \n",
      "Epoch 24/150\n",
      "700/700 [==============================] - 13s - loss: 0.0075 - acc: 0.8104    \n",
      "Epoch 25/150\n",
      "700/700 [==============================] - 13s - loss: 0.0074 - acc: 0.8108    \n",
      "Epoch 26/150\n",
      "700/700 [==============================] - 13s - loss: 0.0071 - acc: 0.8123    \n",
      "Epoch 27/150\n",
      "700/700 [==============================] - 13s - loss: 0.0072 - acc: 0.7980    \n",
      "Epoch 28/150\n",
      "700/700 [==============================] - 13s - loss: 0.0076 - acc: 0.8131    \n",
      "Epoch 29/150\n",
      "700/700 [==============================] - 13s - loss: 0.0072 - acc: 0.8004    \n",
      "Epoch 30/150\n",
      "700/700 [==============================] - 13s - loss: 0.0072 - acc: 0.8126    \n",
      "Epoch 31/150\n",
      "700/700 [==============================] - 13s - loss: 0.0071 - acc: 0.8051    \n",
      "Epoch 32/150\n",
      "700/700 [==============================] - 13s - loss: 0.0071 - acc: 0.8144    \n",
      "Epoch 33/150\n",
      "700/700 [==============================] - 13s - loss: 0.0070 - acc: 0.8307    \n",
      "Epoch 34/150\n",
      "700/700 [==============================] - 13s - loss: 0.0070 - acc: 0.8252    \n",
      "Epoch 35/150\n",
      "700/700 [==============================] - 13s - loss: 0.0078 - acc: 0.7866    \n",
      "Epoch 36/150\n",
      "700/700 [==============================] - 13s - loss: 0.0075 - acc: 0.7955    \n",
      "Epoch 37/150\n",
      "700/700 [==============================] - 13s - loss: 0.0073 - acc: 0.8192    \n",
      "Epoch 38/150\n",
      "700/700 [==============================] - 13s - loss: 0.0070 - acc: 0.8168    \n",
      "Epoch 39/150\n",
      "700/700 [==============================] - 13s - loss: 0.0070 - acc: 0.8073    \n",
      "Epoch 40/150\n",
      "700/700 [==============================] - 13s - loss: 0.0071 - acc: 0.7943    \n",
      "Epoch 41/150\n",
      "700/700 [==============================] - 13s - loss: 0.0072 - acc: 0.8171    \n",
      "Epoch 42/150\n",
      "700/700 [==============================] - 13s - loss: 0.0070 - acc: 0.8087    \n",
      "Epoch 43/150\n",
      "700/700 [==============================] - 13s - loss: 0.0069 - acc: 0.8191    \n",
      "Epoch 44/150\n",
      "700/700 [==============================] - 13s - loss: 0.0071 - acc: 0.8192    \n",
      "Epoch 45/150\n",
      "700/700 [==============================] - 13s - loss: 0.0071 - acc: 0.8195    \n",
      "Epoch 46/150\n",
      "700/700 [==============================] - 13s - loss: 0.0069 - acc: 0.8244    \n",
      "Epoch 47/150\n",
      "700/700 [==============================] - 13s - loss: 0.0069 - acc: 0.8240    \n",
      "Epoch 48/150\n",
      "700/700 [==============================] - 13s - loss: 0.0072 - acc: 0.8071    \n",
      "Epoch 49/150\n",
      "700/700 [==============================] - 13s - loss: 0.0070 - acc: 0.8115    \n",
      "Epoch 50/150\n",
      "700/700 [==============================] - 13s - loss: 0.0072 - acc: 0.8006    \n",
      "Epoch 51/150\n",
      "700/700 [==============================] - 13s - loss: 0.0068 - acc: 0.8097    \n",
      "Epoch 52/150\n",
      "700/700 [==============================] - 13s - loss: 0.0071 - acc: 0.8219    \n",
      "Epoch 53/150\n",
      "700/700 [==============================] - 13s - loss: 0.0075 - acc: 0.8033    \n",
      "Epoch 54/150\n",
      "700/700 [==============================] - 13s - loss: 0.0074 - acc: 0.8078    \n",
      "Epoch 55/150\n",
      "700/700 [==============================] - 13s - loss: 0.0068 - acc: 0.8164    \n",
      "Epoch 56/150\n",
      "700/700 [==============================] - 13s - loss: 0.0071 - acc: 0.8075    \n",
      "Epoch 57/150\n",
      "700/700 [==============================] - 13s - loss: 0.0069 - acc: 0.7992    \n",
      "Epoch 58/150\n",
      "700/700 [==============================] - 13s - loss: 0.0067 - acc: 0.8227    \n",
      "Epoch 59/150\n",
      "700/700 [==============================] - 13s - loss: 0.0069 - acc: 0.8199    \n",
      "Epoch 60/150\n",
      "700/700 [==============================] - 13s - loss: 0.0071 - acc: 0.8179    \n",
      "Epoch 61/150\n",
      "700/700 [==============================] - 13s - loss: 0.0069 - acc: 0.8194    \n",
      "Epoch 62/150\n",
      "700/700 [==============================] - 13s - loss: 0.0070 - acc: 0.8230    \n",
      "Epoch 63/150\n",
      "700/700 [==============================] - 13s - loss: 0.0067 - acc: 0.8131    \n",
      "Epoch 64/150\n",
      "700/700 [==============================] - 13s - loss: 0.0070 - acc: 0.8121    \n",
      "Epoch 65/150\n",
      "700/700 [==============================] - 13s - loss: 0.0072 - acc: 0.8134    \n",
      "Epoch 66/150\n",
      "700/700 [==============================] - 13s - loss: 0.0068 - acc: 0.8203    \n",
      "Epoch 67/150\n",
      "700/700 [==============================] - 13s - loss: 0.0071 - acc: 0.8197    \n",
      "Epoch 68/150\n",
      "700/700 [==============================] - 13s - loss: 0.0073 - acc: 0.7967    \n",
      "Epoch 69/150\n",
      "700/700 [==============================] - 13s - loss: 0.0069 - acc: 0.8052    \n",
      "Epoch 70/150\n",
      "700/700 [==============================] - 13s - loss: 0.0068 - acc: 0.8254    \n",
      "Epoch 71/150\n",
      "700/700 [==============================] - 13s - loss: 0.0068 - acc: 0.8260    \n",
      "Epoch 72/150\n",
      "700/700 [==============================] - 13s - loss: 0.0073 - acc: 0.8200    \n",
      "Epoch 73/150\n",
      "700/700 [==============================] - 13s - loss: 0.0070 - acc: 0.8086    \n",
      "Epoch 74/150\n",
      "700/700 [==============================] - 13s - loss: 0.0068 - acc: 0.8206    \n",
      "Epoch 75/150\n",
      "700/700 [==============================] - 13s - loss: 0.0068 - acc: 0.8263    \n",
      "Epoch 76/150\n",
      "700/700 [==============================] - 13s - loss: 0.0069 - acc: 0.8260    \n",
      "Epoch 77/150\n",
      "700/700 [==============================] - 13s - loss: 0.0070 - acc: 0.8199    \n",
      "Epoch 78/150\n",
      "700/700 [==============================] - 13s - loss: 0.0073 - acc: 0.8081    \n",
      "Epoch 79/150\n",
      "700/700 [==============================] - 13s - loss: 0.0069 - acc: 0.8232    \n",
      "Epoch 80/150\n",
      "700/700 [==============================] - 13s - loss: 0.0068 - acc: 0.8174    \n",
      "Epoch 81/150\n",
      "700/700 [==============================] - 13s - loss: 0.0067 - acc: 0.8275    \n",
      "Epoch 82/150\n",
      "700/700 [==============================] - 13s - loss: 0.0068 - acc: 0.8260    \n",
      "Epoch 83/150\n",
      "700/700 [==============================] - 13s - loss: 0.0067 - acc: 0.8142    \n",
      "Epoch 84/150\n",
      "700/700 [==============================] - 13s - loss: 0.0070 - acc: 0.8234    \n",
      "Epoch 85/150\n",
      "700/700 [==============================] - 13s - loss: 0.0069 - acc: 0.8205    \n",
      "Epoch 86/150\n",
      "700/700 [==============================] - 13s - loss: 0.0070 - acc: 0.8262    \n",
      "Epoch 87/150\n",
      "700/700 [==============================] - 13s - loss: 0.0078 - acc: 0.8097    \n",
      "Epoch 88/150\n",
      "700/700 [==============================] - 13s - loss: 0.0072 - acc: 0.8095    \n",
      "Epoch 89/150\n",
      "700/700 [==============================] - 13s - loss: 0.0069 - acc: 0.8135    \n",
      "Epoch 90/150\n",
      "700/700 [==============================] - 13s - loss: 0.0068 - acc: 0.8215    \n",
      "Epoch 91/150\n",
      "700/700 [==============================] - 13s - loss: 0.0067 - acc: 0.8206    \n",
      "Epoch 92/150\n",
      "700/700 [==============================] - 13s - loss: 0.0069 - acc: 0.8183    \n",
      "Epoch 93/150\n",
      "700/700 [==============================] - 13s - loss: 0.0070 - acc: 0.7913    \n",
      "Epoch 94/150\n",
      "700/700 [==============================] - 13s - loss: 0.0071 - acc: 0.8061    \n",
      "Epoch 95/150\n",
      "700/700 [==============================] - 13s - loss: 0.0068 - acc: 0.8189    \n",
      "Epoch 96/150\n",
      "700/700 [==============================] - 13s - loss: 0.0069 - acc: 0.8201    \n",
      "Epoch 97/150\n",
      "700/700 [==============================] - 13s - loss: 0.0069 - acc: 0.8199    \n",
      "Epoch 98/150\n",
      "700/700 [==============================] - 13s - loss: 0.0068 - acc: 0.8215    \n",
      "Epoch 99/150\n",
      "700/700 [==============================] - 13s - loss: 0.0067 - acc: 0.8185    \n",
      "Epoch 100/150\n",
      "700/700 [==============================] - 13s - loss: 0.0070 - acc: 0.8239    \n",
      "Epoch 101/150\n",
      "700/700 [==============================] - 13s - loss: 0.0066 - acc: 0.8254    \n",
      "Epoch 102/150\n",
      "700/700 [==============================] - 13s - loss: 0.0066 - acc: 0.8189    \n",
      "Epoch 103/150\n",
      "700/700 [==============================] - 13s - loss: 0.0066 - acc: 0.8208    \n",
      "Epoch 104/150\n",
      "700/700 [==============================] - 13s - loss: 0.0066 - acc: 0.8286    \n",
      "Epoch 105/150\n",
      "700/700 [==============================] - 13s - loss: 0.0069 - acc: 0.8135    \n",
      "Epoch 106/150\n",
      "700/700 [==============================] - 13s - loss: 0.0067 - acc: 0.8217    \n",
      "Epoch 107/150\n",
      "700/700 [==============================] - 13s - loss: 0.0067 - acc: 0.8195    \n",
      "Epoch 108/150\n",
      "700/700 [==============================] - 13s - loss: 0.0068 - acc: 0.8226    \n",
      "Epoch 109/150\n",
      "700/700 [==============================] - 13s - loss: 0.0066 - acc: 0.8102    \n",
      "Epoch 110/150\n",
      "700/700 [==============================] - 13s - loss: 0.0066 - acc: 0.8224    \n",
      "Epoch 111/150\n",
      "700/700 [==============================] - 13s - loss: 0.0069 - acc: 0.8137    \n",
      "Epoch 112/150\n",
      "700/700 [==============================] - 13s - loss: 0.0067 - acc: 0.8148    \n",
      "Epoch 113/150\n",
      "700/700 [==============================] - 13s - loss: 0.0068 - acc: 0.8223    \n",
      "Epoch 114/150\n",
      "700/700 [==============================] - 13s - loss: 0.0070 - acc: 0.8183    \n",
      "Epoch 115/150\n",
      "700/700 [==============================] - 13s - loss: 0.0066 - acc: 0.8292    \n",
      "Epoch 116/150\n",
      "700/700 [==============================] - 13s - loss: 0.0066 - acc: 0.8314    \n",
      "Epoch 117/150\n",
      "700/700 [==============================] - 13s - loss: 0.0071 - acc: 0.8209    \n",
      "Epoch 118/150\n",
      "700/700 [==============================] - 13s - loss: 0.0069 - acc: 0.8067    \n",
      "Epoch 119/150\n",
      "700/700 [==============================] - 13s - loss: 0.0066 - acc: 0.8183    \n",
      "Epoch 120/150\n",
      "700/700 [==============================] - 13s - loss: 0.0068 - acc: 0.8262    \n",
      "Epoch 121/150\n",
      "700/700 [==============================] - 13s - loss: 0.0065 - acc: 0.8328    \n",
      "Epoch 122/150\n",
      "700/700 [==============================] - 13s - loss: 0.0066 - acc: 0.8242    \n",
      "Epoch 123/150\n",
      "700/700 [==============================] - 13s - loss: 0.0069 - acc: 0.8189    \n",
      "Epoch 124/150\n",
      "700/700 [==============================] - 13s - loss: 0.0067 - acc: 0.8257    \n",
      "Epoch 125/150\n",
      "700/700 [==============================] - 13s - loss: 0.0065 - acc: 0.8242    \n",
      "Epoch 126/150\n",
      "700/700 [==============================] - 13s - loss: 0.0065 - acc: 0.8255    \n",
      "Epoch 127/150\n",
      "700/700 [==============================] - 13s - loss: 0.0066 - acc: 0.8252    \n",
      "Epoch 128/150\n",
      "700/700 [==============================] - 13s - loss: 0.0065 - acc: 0.8212    \n",
      "Epoch 129/150\n",
      "700/700 [==============================] - 13s - loss: 0.0065 - acc: 0.8247    \n",
      "Epoch 130/150\n",
      "700/700 [==============================] - 13s - loss: 0.0064 - acc: 0.8354    \n",
      "Epoch 131/150\n",
      "700/700 [==============================] - 13s - loss: 0.0067 - acc: 0.8316    \n",
      "Epoch 132/150\n",
      "700/700 [==============================] - 13s - loss: 0.0066 - acc: 0.8281    \n",
      "Epoch 133/150\n",
      "700/700 [==============================] - 13s - loss: 0.0065 - acc: 0.8276    \n",
      "Epoch 134/150\n",
      "700/700 [==============================] - 13s - loss: 0.0066 - acc: 0.8312    \n",
      "Epoch 135/150\n",
      "700/700 [==============================] - 13s - loss: 0.0065 - acc: 0.8222    \n",
      "Epoch 136/150\n",
      "700/700 [==============================] - 13s - loss: 0.0065 - acc: 0.8320    \n",
      "Epoch 137/150\n",
      "700/700 [==============================] - 13s - loss: 0.0067 - acc: 0.8215    \n",
      "Epoch 138/150\n",
      "700/700 [==============================] - 13s - loss: 0.0070 - acc: 0.8280    \n",
      "Epoch 139/150\n",
      "700/700 [==============================] - 13s - loss: 0.0065 - acc: 0.8290    \n",
      "Epoch 140/150\n",
      "700/700 [==============================] - 13s - loss: 0.0067 - acc: 0.8155    \n",
      "Epoch 141/150\n",
      "700/700 [==============================] - 13s - loss: 0.0065 - acc: 0.8195    \n",
      "Epoch 142/150\n",
      "700/700 [==============================] - 13s - loss: 0.0063 - acc: 0.8277    \n",
      "Epoch 143/150\n",
      "700/700 [==============================] - 13s - loss: 0.0065 - acc: 0.8216    \n",
      "Epoch 144/150\n",
      "700/700 [==============================] - 13s - loss: 0.0063 - acc: 0.8376    \n",
      "Epoch 145/150\n",
      "700/700 [==============================] - 13s - loss: 0.0066 - acc: 0.8317    \n",
      "Epoch 146/150\n",
      "700/700 [==============================] - 13s - loss: 0.0064 - acc: 0.8293    \n",
      "Epoch 147/150\n",
      "700/700 [==============================] - 13s - loss: 0.0065 - acc: 0.8283    \n",
      "Epoch 148/150\n",
      "700/700 [==============================] - 13s - loss: 0.0070 - acc: 0.7895    \n",
      "Epoch 149/150\n",
      "700/700 [==============================] - 13s - loss: 0.0067 - acc: 0.7858    \n",
      "Epoch 150/150\n",
      "700/700 [==============================] - 13s - loss: 0.0067 - acc: 0.8128    \n"
     ]
    },
    {
     "data": {
      "text/plain": [
       "<keras.callbacks.History at 0x7f7d53fc6ef0>"
      ]
     },
     "execution_count": 25,
     "metadata": {},
     "output_type": "execute_result"
    }
   ],
   "source": [
    "Model.fit(autoencoder , rain_final, derain_final,epochs=150,shuffle=True,batch_size = 35)"
   ]
  },
  {
   "cell_type": "code",
   "execution_count": 39,
   "metadata": {
    "collapsed": true
   },
   "outputs": [],
   "source": [
    "autoencoder.save(\"./NNFL_FINAL_WEIGHTS\")"
   ]
  },
  {
   "cell_type": "code",
   "execution_count": 10,
   "metadata": {},
   "outputs": [],
   "source": [
    "auto = load_model(\"./NNFL_FINAL_WEIGHTS\")\n"
   ]
  },
  {
   "cell_type": "code",
   "execution_count": null,
   "metadata": {
    "collapsed": true
   },
   "outputs": [],
   "source": [
    "a = h.predict(rain_final[:3])"
   ]
  },
  {
   "cell_type": "code",
   "execution_count": 11,
   "metadata": {
    "collapsed": true
   },
   "outputs": [],
   "source": [
    "aa = auto.predict(rain_final)"
   ]
  },
  {
   "cell_type": "code",
   "execution_count": null,
   "metadata": {
    "collapsed": true
   },
   "outputs": [],
   "source": [
    "plt.imshow(aa[0])"
   ]
  },
  {
   "cell_type": "code",
   "execution_count": null,
   "metadata": {
    "collapsed": true
   },
   "outputs": [],
   "source": [
    "plt.imshow(rain_final[0])"
   ]
  },
  {
   "cell_type": "code",
   "execution_count": null,
   "metadata": {
    "collapsed": true
   },
   "outputs": [],
   "source": [
    "x = rain_final[0]/255\n",
    "x = x*255"
   ]
  },
  {
   "cell_type": "code",
   "execution_count": null,
   "metadata": {
    "collapsed": true
   },
   "outputs": [],
   "source": [
    "plt.imshow(x)"
   ]
  },
  {
   "cell_type": "code",
   "execution_count": null,
   "metadata": {
    "collapsed": true
   },
   "outputs": [],
   "source": [
    "x = np.rint(x)\n",
    "x = x.astype(np.uint8)\n",
    "x"
   ]
  },
  {
   "cell_type": "code",
   "execution_count": null,
   "metadata": {
    "collapsed": true
   },
   "outputs": [],
   "source": [
    "rain_final[0]"
   ]
  },
  {
   "cell_type": "code",
   "execution_count": null,
   "metadata": {
    "collapsed": true
   },
   "outputs": [],
   "source": [
    "plt.imshow(x)"
   ]
  },
  {
   "cell_type": "code",
   "execution_count": 43,
   "metadata": {
    "collapsed": true
   },
   "outputs": [],
   "source": [
    "mse = ((derain_final - aa) ** 2).mean(axis=None)"
   ]
  },
  {
   "cell_type": "markdown",
   "metadata": {
    "collapsed": true
   },
   "source": [
    "mse"
   ]
  },
  {
   "cell_type": "code",
   "execution_count": 44,
   "metadata": {},
   "outputs": [
    {
     "data": {
      "text/plain": [
       "0.0066211531532070862"
      ]
     },
     "execution_count": 44,
     "metadata": {},
     "output_type": "execute_result"
    }
   ],
   "source": [
    "mse"
   ]
  },
  {
   "cell_type": "code",
   "execution_count": 45,
   "metadata": {
    "collapsed": true
   },
   "outputs": [],
   "source": [
    "psnr = 20*np.log10(1/(mse**(1/2.0)))"
   ]
  },
  {
   "cell_type": "code",
   "execution_count": 46,
   "metadata": {},
   "outputs": [
    {
     "data": {
      "text/plain": [
       "21.79066366381867"
      ]
     },
     "execution_count": 46,
     "metadata": {},
     "output_type": "execute_result"
    }
   ],
   "source": [
    "psnr"
   ]
  },
  {
   "cell_type": "code",
   "execution_count": 13,
   "metadata": {
    "collapsed": true
   },
   "outputs": [],
   "source": [
    "x = aa[29]*255"
   ]
  },
  {
   "cell_type": "code",
   "execution_count": 14,
   "metadata": {},
   "outputs": [
    {
     "data": {
      "text/plain": [
       "<matplotlib.image.AxesImage at 0x1351355c0>"
      ]
     },
     "execution_count": 14,
     "metadata": {},
     "output_type": "execute_result"
    },
    {
     "data": {
      "image/png": "[encoded data removed]",
      "text/plain": [
       "<matplotlib.figure.Figure at 0x133e3e358>"
      ]
     },
     "metadata": {},
     "output_type": "display_data"
    }
   ],
   "source": [
    "plt.imshow(x.astype(np.uint8))"
   ]
  },
  {
   "cell_type": "code",
   "execution_count": null,
   "metadata": {
    "collapsed": true
   },
   "outputs": [],
   "source": []
  },
  {
   "cell_type": "code",
   "execution_count": null,
   "metadata": {
    "collapsed": true
   },
   "outputs": [],
   "source": []
  },
  {
   "cell_type": "code",
   "execution_count": null,
   "metadata": {
    "collapsed": true
   },
   "outputs": [],
   "source": []
  },
  {
   "cell_type": "code",
   "execution_count": null,
   "metadata": {
    "collapsed": true
   },
   "outputs": [],
   "source": []
  },
  {
   "cell_type": "code",
   "execution_count": null,
   "metadata": {
    "collapsed": true
   },
   "outputs": [],
   "source": []
  },
  {
   "cell_type": "code",
   "execution_count": null,
   "metadata": {
    "collapsed": true
   },
   "outputs": [],
   "source": []
  }
 ],
 "metadata": {
  "kernelspec": {
   "display_name": "Python 3",
   "language": "python",
   "name": "python3"
  },
  "language_info": {
   "codemirror_mode": {
    "name": "ipython",
    "version": 3
   },
   "file_extension": ".py",
   "mimetype": "text/x-python",
   "name": "python",
   "nbconvert_exporter": "python",
   "pygments_lexer": "ipython3",
   "version": "3.6.1"
  }
 },
 "nbformat": 4,
 "nbformat_minor": 2
}
